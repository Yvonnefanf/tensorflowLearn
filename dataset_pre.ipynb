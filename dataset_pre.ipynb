{
 "cells": [
  {
   "cell_type": "code",
   "execution_count": 1,
   "metadata": {},
   "outputs": [],
   "source": [
    "import tensorflow as tf"
   ]
  },
  {
   "cell_type": "code",
   "execution_count": 3,
   "metadata": {},
   "outputs": [],
   "source": [
    "dataset = tf.data.Dataset.from_tensor_slices([1,2,3,4,5,6,7])"
   ]
  },
  {
   "cell_type": "code",
   "execution_count": 4,
   "metadata": {},
   "outputs": [
    {
     "data": {
      "text/plain": [
       "<TensorSliceDataset shapes: (), types: tf.int32>"
      ]
     },
     "execution_count": 4,
     "metadata": {},
     "output_type": "execute_result"
    }
   ],
   "source": [
    "dataset"
   ]
  },
  {
   "cell_type": "code",
   "execution_count": 6,
   "metadata": {},
   "outputs": [
    {
     "name": "stdout",
     "output_type": "stream",
     "text": [
      "tf.Tensor(1, shape=(), dtype=int32) 1\n",
      "tf.Tensor(2, shape=(), dtype=int32) 2\n",
      "tf.Tensor(3, shape=(), dtype=int32) 3\n",
      "tf.Tensor(4, shape=(), dtype=int32) 4\n",
      "tf.Tensor(5, shape=(), dtype=int32) 5\n",
      "tf.Tensor(6, shape=(), dtype=int32) 6\n",
      "tf.Tensor(7, shape=(), dtype=int32) 7\n"
     ]
    }
   ],
   "source": [
    "for ele in dataset:\n",
    "    print(ele, ele.numpy())"
   ]
  },
  {
   "cell_type": "code",
   "execution_count": 9,
   "metadata": {},
   "outputs": [],
   "source": [
    "dataset = tf.data.Dataset.from_tensor_slices([[1,2],[3,4],[5,6]])"
   ]
  },
  {
   "cell_type": "code",
   "execution_count": 10,
   "metadata": {},
   "outputs": [
    {
     "data": {
      "text/plain": [
       "<TensorSliceDataset shapes: (2,), types: tf.int32>"
      ]
     },
     "execution_count": 10,
     "metadata": {},
     "output_type": "execute_result"
    }
   ],
   "source": [
    "dataset"
   ]
  },
  {
   "cell_type": "code",
   "execution_count": 11,
   "metadata": {},
   "outputs": [
    {
     "name": "stdout",
     "output_type": "stream",
     "text": [
      "tf.Tensor([1 2], shape=(2,), dtype=int32) [1 2]\n",
      "tf.Tensor([3 4], shape=(2,), dtype=int32) [3 4]\n",
      "tf.Tensor([5 6], shape=(2,), dtype=int32) [5 6]\n"
     ]
    }
   ],
   "source": [
    "for ele in dataset:\n",
    "    print(ele, ele.numpy())"
   ]
  },
  {
   "cell_type": "code",
   "execution_count": 12,
   "metadata": {},
   "outputs": [],
   "source": [
    "dataset_dict = tf.data.Dataset.from_tensor_slices({\n",
    "    'a':[1,2,3,4],'b':[1,4,5,7],'c':[23,45,6,7]\n",
    "})"
   ]
  },
  {
   "cell_type": "code",
   "execution_count": 13,
   "metadata": {},
   "outputs": [
    {
     "data": {
      "text/plain": [
       "<TensorSliceDataset shapes: {a: (), b: (), c: ()}, types: {a: tf.int32, b: tf.int32, c: tf.int32}>"
      ]
     },
     "execution_count": 13,
     "metadata": {},
     "output_type": "execute_result"
    }
   ],
   "source": [
    "dataset_dict"
   ]
  },
  {
   "cell_type": "code",
   "execution_count": 14,
   "metadata": {},
   "outputs": [
    {
     "name": "stdout",
     "output_type": "stream",
     "text": [
      "tf.Tensor([1 2], shape=(2,), dtype=int32) [1 2]\n"
     ]
    }
   ],
   "source": [
    "for ele in dataset.take(1): #take\n",
    "    print(ele, ele.numpy())"
   ]
  },
  {
   "cell_type": "code",
   "execution_count": 15,
   "metadata": {},
   "outputs": [
    {
     "data": {
      "text/plain": [
       "<tf.Tensor: shape=(2,), dtype=int32, numpy=array([1, 2])>"
      ]
     },
     "execution_count": 15,
     "metadata": {},
     "output_type": "execute_result"
    }
   ],
   "source": [
    "next(iter(dataset.take(1)))"
   ]
  },
  {
   "cell_type": "code",
   "execution_count": 17,
   "metadata": {},
   "outputs": [
    {
     "data": {
      "text/plain": [
       "<RepeatDataset shapes: (2,), types: tf.int32>"
      ]
     },
     "execution_count": 17,
     "metadata": {},
     "output_type": "execute_result"
    }
   ],
   "source": [
    "dataset = dataset.shuffle(3) #乱序\n",
    "dataset = dataset.repeat(6)\n"
   ]
  },
  {
   "cell_type": "code",
   "execution_count": 18,
   "metadata": {},
   "outputs": [
    {
     "name": "stdout",
     "output_type": "stream",
     "text": [
      "tf.Tensor([5 6], shape=(2,), dtype=int32) [5 6]\n",
      "tf.Tensor([3 4], shape=(2,), dtype=int32) [3 4]\n",
      "tf.Tensor([1 2], shape=(2,), dtype=int32) [1 2]\n",
      "tf.Tensor([5 6], shape=(2,), dtype=int32) [5 6]\n",
      "tf.Tensor([3 4], shape=(2,), dtype=int32) [3 4]\n",
      "tf.Tensor([1 2], shape=(2,), dtype=int32) [1 2]\n",
      "tf.Tensor([3 4], shape=(2,), dtype=int32) [3 4]\n",
      "tf.Tensor([1 2], shape=(2,), dtype=int32) [1 2]\n",
      "tf.Tensor([5 6], shape=(2,), dtype=int32) [5 6]\n",
      "tf.Tensor([5 6], shape=(2,), dtype=int32) [5 6]\n",
      "tf.Tensor([3 4], shape=(2,), dtype=int32) [3 4]\n",
      "tf.Tensor([1 2], shape=(2,), dtype=int32) [1 2]\n",
      "tf.Tensor([1 2], shape=(2,), dtype=int32) [1 2]\n",
      "tf.Tensor([3 4], shape=(2,), dtype=int32) [3 4]\n",
      "tf.Tensor([5 6], shape=(2,), dtype=int32) [5 6]\n",
      "tf.Tensor([5 6], shape=(2,), dtype=int32) [5 6]\n",
      "tf.Tensor([3 4], shape=(2,), dtype=int32) [3 4]\n",
      "tf.Tensor([1 2], shape=(2,), dtype=int32) [1 2]\n"
     ]
    }
   ],
   "source": [
    "for ele in dataset: #take\n",
    "    print(ele, ele.numpy())"
   ]
  },
  {
   "cell_type": "code",
   "execution_count": 19,
   "metadata": {},
   "outputs": [],
   "source": [
    "dataset = tf.data.Dataset.from_tensor_slices([1,2,3,4,5,6,7])"
   ]
  },
  {
   "cell_type": "code",
   "execution_count": 20,
   "metadata": {},
   "outputs": [],
   "source": [
    "dataset = dataset.map(tf.square)"
   ]
  },
  {
   "cell_type": "code",
   "execution_count": 21,
   "metadata": {},
   "outputs": [
    {
     "name": "stdout",
     "output_type": "stream",
     "text": [
      "1\n",
      "4\n",
      "9\n",
      "16\n",
      "25\n",
      "36\n",
      "49\n"
     ]
    }
   ],
   "source": [
    "for ele in dataset:\n",
    "    print(ele.numpy())"
   ]
  },
  {
   "cell_type": "code",
   "execution_count": 23,
   "metadata": {},
   "outputs": [
    {
     "name": "stdout",
     "output_type": "stream",
     "text": [
      "Downloading data from https://storage.googleapis.com/tensorflow/tf-keras-datasets/mnist.npz\n",
      "11493376/11490434 [==============================] - 1s 0us/step\n"
     ]
    }
   ],
   "source": [
    "(train_image, train_label),(test_image, test_label) = tf.keras.datasets.mnist.load_data()"
   ]
  },
  {
   "cell_type": "code",
   "execution_count": 24,
   "metadata": {},
   "outputs": [],
   "source": [
    "train_image = train_image /255\n",
    "test_image = test_image /255"
   ]
  },
  {
   "cell_type": "code",
   "execution_count": 27,
   "metadata": {},
   "outputs": [],
   "source": [
    "ds_train_img = tf.data.Dataset.from_tensor_slices(train_image )"
   ]
  },
  {
   "cell_type": "code",
   "execution_count": 47,
   "metadata": {},
   "outputs": [],
   "source": [
    "ds_test = tf.data.Dataset.from_tensor_slices((test_image,test_label) )"
   ]
  },
  {
   "cell_type": "code",
   "execution_count": 50,
   "metadata": {},
   "outputs": [],
   "source": [
    "ds_test= ds_test.batch(64)"
   ]
  },
  {
   "cell_type": "code",
   "execution_count": 28,
   "metadata": {},
   "outputs": [
    {
     "data": {
      "text/plain": [
       "<TensorSliceDataset shapes: (28, 28), types: tf.float64>"
      ]
     },
     "execution_count": 28,
     "metadata": {},
     "output_type": "execute_result"
    }
   ],
   "source": [
    "ds_train_img"
   ]
  },
  {
   "cell_type": "code",
   "execution_count": 29,
   "metadata": {},
   "outputs": [],
   "source": [
    "ds_train_label = tf.data.Dataset.from_tensor_slices(train_label )"
   ]
  },
  {
   "cell_type": "code",
   "execution_count": 30,
   "metadata": {},
   "outputs": [
    {
     "data": {
      "text/plain": [
       "<TensorSliceDataset shapes: (), types: tf.uint8>"
      ]
     },
     "execution_count": 30,
     "metadata": {},
     "output_type": "execute_result"
    }
   ],
   "source": [
    "ds_train_label"
   ]
  },
  {
   "cell_type": "code",
   "execution_count": 32,
   "metadata": {},
   "outputs": [],
   "source": [
    "ds_train = tf.data.Dataset.zip((ds_train_img , ds_train_label))"
   ]
  },
  {
   "cell_type": "code",
   "execution_count": 33,
   "metadata": {},
   "outputs": [
    {
     "data": {
      "text/plain": [
       "<ZipDataset shapes: ((28, 28), ()), types: (tf.float64, tf.uint8)>"
      ]
     },
     "execution_count": 33,
     "metadata": {},
     "output_type": "execute_result"
    }
   ],
   "source": [
    "ds_train"
   ]
  },
  {
   "cell_type": "code",
   "execution_count": 34,
   "metadata": {},
   "outputs": [],
   "source": [
    "ds_train = ds_train.shuffle(10000).repeat().batch(64)"
   ]
  },
  {
   "cell_type": "code",
   "execution_count": 42,
   "metadata": {},
   "outputs": [],
   "source": [
    "model = tf.keras.Sequential([\n",
    "    tf.keras.layers.Flatten(input_shape=(28,28)),\n",
    "    tf.keras.layers.Dense(128,activation='relu'),\n",
    "    tf.keras.layers.Dense(10,activation='softmax'),\n",
    "])"
   ]
  },
  {
   "cell_type": "code",
   "execution_count": 43,
   "metadata": {},
   "outputs": [],
   "source": [
    "model.compile(optimizer = 'adam',\n",
    "             loss='sparse_categorical_crossentropy',\n",
    "             metrics=['acc'])"
   ]
  },
  {
   "cell_type": "code",
   "execution_count": 44,
   "metadata": {},
   "outputs": [],
   "source": [
    "steps_per_epochs = train_image.shape[0] / 64"
   ]
  },
  {
   "cell_type": "code",
   "execution_count": 46,
   "metadata": {},
   "outputs": [
    {
     "name": "stdout",
     "output_type": "stream",
     "text": [
      "Epoch 1/5\n",
      "938/937 [==============================] - 2s 2ms/step - loss: 0.3008 - acc: 0.9154\n",
      "Epoch 2/5\n",
      "938/937 [==============================] - 1s 2ms/step - loss: 0.1380 - acc: 0.9600\n",
      "Epoch 3/5\n",
      "938/937 [==============================] - 1s 2ms/step - loss: 0.0964 - acc: 0.9718\n",
      "Epoch 4/5\n",
      "938/937 [==============================] - 1s 2ms/step - loss: 0.0723 - acc: 0.9794\n",
      "Epoch 5/5\n",
      "938/937 [==============================] - 1s 2ms/step - loss: 0.0562 - acc: 0.9835\n"
     ]
    },
    {
     "data": {
      "text/plain": [
       "<tensorflow.python.keras.callbacks.History at 0x1f0d286e788>"
      ]
     },
     "execution_count": 46,
     "metadata": {},
     "output_type": "execute_result"
    }
   ],
   "source": [
    "model.fit(ds_train, \n",
    "          epochs=5,\n",
    "          steps_per_epoch=steps_per_epochs,\n",
    "          validation_data=ds_test,\n",
    "          validation_steps=10000/64)"
   ]
  },
  {
   "cell_type": "code",
   "execution_count": null,
   "metadata": {},
   "outputs": [],
   "source": []
  }
 ],
 "metadata": {
  "language_info": {},
  "orig_nbformat": 3
 },
 "nbformat": 4,
 "nbformat_minor": 5
}