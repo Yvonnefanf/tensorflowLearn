{
 "cells": [
  {
   "cell_type": "code",
   "execution_count": 1,
   "id": "d8d1ed7d",
   "metadata": {},
   "outputs": [],
   "source": [
    "import tensorflow as tf"
   ]
  },
  {
   "cell_type": "code",
   "execution_count": 3,
   "id": "b5caf3c7",
   "metadata": {},
   "outputs": [],
   "source": [
    "dataset = tf.data.Dataset.from_tensor_slices([1,2,3,4,5,6,7])"
   ]
  },
  {
   "cell_type": "code",
   "execution_count": 4,
   "id": "e63eb945",
   "metadata": {},
   "outputs": [
    {
     "data": {
      "text/plain": [
       "<TensorSliceDataset shapes: (), types: tf.int32>"
      ]
     },
     "execution_count": 4,
     "metadata": {},
     "output_type": "execute_result"
    }
   ],
   "source": [
    "dataset"
   ]
  },
  {
   "cell_type": "code",
   "execution_count": 6,
   "id": "5da7d71a",
   "metadata": {},
   "outputs": [
    {
     "name": "stdout",
     "output_type": "stream",
     "text": [
      "tf.Tensor(1, shape=(), dtype=int32) 1\n",
      "tf.Tensor(2, shape=(), dtype=int32) 2\n",
      "tf.Tensor(3, shape=(), dtype=int32) 3\n",
      "tf.Tensor(4, shape=(), dtype=int32) 4\n",
      "tf.Tensor(5, shape=(), dtype=int32) 5\n",
      "tf.Tensor(6, shape=(), dtype=int32) 6\n",
      "tf.Tensor(7, shape=(), dtype=int32) 7\n"
     ]
    }
   ],
   "source": [
    "for ele in dataset:\n",
    "    print(ele, ele.numpy())"
   ]
  },
  {
   "cell_type": "code",
   "execution_count": 9,
   "id": "5e25399e",
   "metadata": {},
   "outputs": [],
   "source": [
    "dataset = tf.data.Dataset.from_tensor_slices([[1,2],[3,4],[5,6]])"
   ]
  },
  {
   "cell_type": "code",
   "execution_count": 10,
   "id": "5eb63d92",
   "metadata": {},
   "outputs": [
    {
     "data": {
      "text/plain": [
       "<TensorSliceDataset shapes: (2,), types: tf.int32>"
      ]
     },
     "execution_count": 10,
     "metadata": {},
     "output_type": "execute_result"
    }
   ],
   "source": [
    "dataset"
   ]
  },
  {
   "cell_type": "code",
   "execution_count": 11,
   "id": "d3a4a30f",
   "metadata": {},
   "outputs": [
    {
     "name": "stdout",
     "output_type": "stream",
     "text": [
      "tf.Tensor([1 2], shape=(2,), dtype=int32) [1 2]\n",
      "tf.Tensor([3 4], shape=(2,), dtype=int32) [3 4]\n",
      "tf.Tensor([5 6], shape=(2,), dtype=int32) [5 6]\n"
     ]
    }
   ],
   "source": [
    "for ele in dataset:\n",
    "    print(ele, ele.numpy())"
   ]
  },
  {
   "cell_type": "code",
   "execution_count": 12,
   "id": "42faa932",
   "metadata": {},
   "outputs": [],
   "source": [
    "dataset_dict = tf.data.Dataset.from_tensor_slices({\n",
    "    'a':[1,2,3,4],'b':[1,4,5,7],'c':[23,45,6,7]\n",
    "})"
   ]
  },
  {
   "cell_type": "code",
   "execution_count": 13,
   "id": "078180c0",
   "metadata": {},
   "outputs": [
    {
     "data": {
      "text/plain": [
       "<TensorSliceDataset shapes: {a: (), b: (), c: ()}, types: {a: tf.int32, b: tf.int32, c: tf.int32}>"
      ]
     },
     "execution_count": 13,
     "metadata": {},
     "output_type": "execute_result"
    }
   ],
   "source": [
    "dataset_dict"
   ]
  },
  {
   "cell_type": "code",
   "execution_count": 14,
   "id": "047a0ad9",
   "metadata": {},
   "outputs": [
    {
     "name": "stdout",
     "output_type": "stream",
     "text": [
      "tf.Tensor([1 2], shape=(2,), dtype=int32) [1 2]\n"
     ]
    }
   ],
   "source": [
    "for ele in dataset.take(1): #take\n",
    "    print(ele, ele.numpy())"
   ]
  },
  {
   "cell_type": "code",
   "execution_count": 15,
   "id": "11f72308",
   "metadata": {},
   "outputs": [
    {
     "data": {
      "text/plain": [
       "<tf.Tensor: shape=(2,), dtype=int32, numpy=array([1, 2])>"
      ]
     },
     "execution_count": 15,
     "metadata": {},
     "output_type": "execute_result"
    }
   ],
   "source": [
    "next(iter(dataset.take(1)))"
   ]
  },
  {
   "cell_type": "code",
   "execution_count": 17,
   "id": "b75c8dd2",
   "metadata": {},
   "outputs": [
    {
     "data": {
      "text/plain": [
       "<RepeatDataset shapes: (2,), types: tf.int32>"
      ]
     },
     "execution_count": 17,
     "metadata": {},
     "output_type": "execute_result"
    }
   ],
   "source": [
    "dataset = dataset.shuffle(3) #乱序\n",
    "dataset = dataset.repeat(6)\n"
   ]
  },
  {
   "cell_type": "code",
   "execution_count": 18,
   "id": "6cee1af7",
   "metadata": {},
   "outputs": [
    {
     "name": "stdout",
     "output_type": "stream",
     "text": [
      "tf.Tensor([5 6], shape=(2,), dtype=int32) [5 6]\n",
      "tf.Tensor([3 4], shape=(2,), dtype=int32) [3 4]\n",
      "tf.Tensor([1 2], shape=(2,), dtype=int32) [1 2]\n",
      "tf.Tensor([5 6], shape=(2,), dtype=int32) [5 6]\n",
      "tf.Tensor([3 4], shape=(2,), dtype=int32) [3 4]\n",
      "tf.Tensor([1 2], shape=(2,), dtype=int32) [1 2]\n",
      "tf.Tensor([3 4], shape=(2,), dtype=int32) [3 4]\n",
      "tf.Tensor([1 2], shape=(2,), dtype=int32) [1 2]\n",
      "tf.Tensor([5 6], shape=(2,), dtype=int32) [5 6]\n",
      "tf.Tensor([5 6], shape=(2,), dtype=int32) [5 6]\n",
      "tf.Tensor([3 4], shape=(2,), dtype=int32) [3 4]\n",
      "tf.Tensor([1 2], shape=(2,), dtype=int32) [1 2]\n",
      "tf.Tensor([1 2], shape=(2,), dtype=int32) [1 2]\n",
      "tf.Tensor([3 4], shape=(2,), dtype=int32) [3 4]\n",
      "tf.Tensor([5 6], shape=(2,), dtype=int32) [5 6]\n",
      "tf.Tensor([5 6], shape=(2,), dtype=int32) [5 6]\n",
      "tf.Tensor([3 4], shape=(2,), dtype=int32) [3 4]\n",
      "tf.Tensor([1 2], shape=(2,), dtype=int32) [1 2]\n"
     ]
    }
   ],
   "source": [
    "for ele in dataset: #take\n",
    "    print(ele, ele.numpy())"
   ]
  },
  {
   "cell_type": "code",
   "execution_count": 19,
   "id": "8cc29bd1",
   "metadata": {},
   "outputs": [],
   "source": [
    "dataset = tf.data.Dataset.from_tensor_slices([1,2,3,4,5,6,7])"
   ]
  },
  {
   "cell_type": "code",
   "execution_count": 20,
   "id": "042f8975",
   "metadata": {},
   "outputs": [],
   "source": [
    "dataset = dataset.map(tf.square)"
   ]
  },
  {
   "cell_type": "code",
   "execution_count": 21,
   "id": "11786631",
   "metadata": {},
   "outputs": [
    {
     "name": "stdout",
     "output_type": "stream",
     "text": [
      "1\n",
      "4\n",
      "9\n",
      "16\n",
      "25\n",
      "36\n",
      "49\n"
     ]
    }
   ],
   "source": [
    "for ele in dataset:\n",
    "    print(ele.numpy())"
   ]
  },
  {
   "cell_type": "code",
   "execution_count": 23,
   "id": "8c6c7bb9",
   "metadata": {},
   "outputs": [
    {
     "name": "stdout",
     "output_type": "stream",
     "text": [
      "Downloading data from https://storage.googleapis.com/tensorflow/tf-keras-datasets/mnist.npz\n",
      "11493376/11490434 [==============================] - 1s 0us/step\n"
     ]
    }
   ],
   "source": [
    "(train_image, train_label),(test_image, test_label) = tf.keras.datasets.mnist.load_data()"
   ]
  },
  {
   "cell_type": "code",
   "execution_count": 24,
   "id": "a5ddd20b",
   "metadata": {},
   "outputs": [],
   "source": [
    "train_image = train_image /255\n",
    "test_image = test_image /255"
   ]
  },
  {
   "cell_type": "code",
   "execution_count": 27,
   "id": "2c576e06",
   "metadata": {},
   "outputs": [],
   "source": [
    "ds_train_img = tf.data.Dataset.from_tensor_slices(train_image )"
   ]
  },
  {
   "cell_type": "code",
   "execution_count": 47,
   "id": "f99a8b0f",
   "metadata": {},
   "outputs": [],
   "source": [
    "ds_test = tf.data.Dataset.from_tensor_slices((test_image,test_label) )"
   ]
  },
  {
   "cell_type": "code",
   "execution_count": 50,
   "id": "9eb5fb1e",
   "metadata": {},
   "outputs": [],
   "source": [
    "ds_test= ds_test.batch(64)"
   ]
  },
  {
   "cell_type": "code",
   "execution_count": 28,
   "id": "a08061b8",
   "metadata": {},
   "outputs": [
    {
     "data": {
      "text/plain": [
       "<TensorSliceDataset shapes: (28, 28), types: tf.float64>"
      ]
     },
     "execution_count": 28,
     "metadata": {},
     "output_type": "execute_result"
    }
   ],
   "source": [
    "ds_train_img"
   ]
  },
  {
   "cell_type": "code",
   "execution_count": 29,
   "id": "acbb90b7",
   "metadata": {},
   "outputs": [],
   "source": [
    "ds_train_label = tf.data.Dataset.from_tensor_slices(train_label )"
   ]
  },
  {
   "cell_type": "code",
   "execution_count": 30,
   "id": "a9e8919e",
   "metadata": {},
   "outputs": [
    {
     "data": {
      "text/plain": [
       "<TensorSliceDataset shapes: (), types: tf.uint8>"
      ]
     },
     "execution_count": 30,
     "metadata": {},
     "output_type": "execute_result"
    }
   ],
   "source": [
    "ds_train_label"
   ]
  },
  {
   "cell_type": "code",
   "execution_count": 32,
   "id": "a8371aa6",
   "metadata": {},
   "outputs": [],
   "source": [
    "ds_train = tf.data.Dataset.zip((ds_train_img , ds_train_label))"
   ]
  },
  {
   "cell_type": "code",
   "execution_count": 33,
   "id": "e0b46228",
   "metadata": {},
   "outputs": [
    {
     "data": {
      "text/plain": [
       "<ZipDataset shapes: ((28, 28), ()), types: (tf.float64, tf.uint8)>"
      ]
     },
     "execution_count": 33,
     "metadata": {},
     "output_type": "execute_result"
    }
   ],
   "source": [
    "ds_train"
   ]
  },
  {
   "cell_type": "code",
   "execution_count": 34,
   "id": "d0e8b9bc",
   "metadata": {},
   "outputs": [],
   "source": [
    "ds_train = ds_train.shuffle(10000).repeat().batch(64)"
   ]
  },
  {
   "cell_type": "code",
   "execution_count": 42,
   "id": "8f6052ad",
   "metadata": {},
   "outputs": [],
   "source": [
    "model = tf.keras.Sequential([\n",
    "    tf.keras.layers.Flatten(input_shape=(28,28)),\n",
    "    tf.keras.layers.Dense(128,activation='relu'),\n",
    "    tf.keras.layers.Dense(10,activation='softmax'),\n",
    "])"
   ]
  },
  {
   "cell_type": "code",
   "execution_count": 43,
   "id": "264473bd",
   "metadata": {},
   "outputs": [],
   "source": [
    "model.compile(optimizer = 'adam',\n",
    "             loss='sparse_categorical_crossentropy',\n",
    "             metrics=['acc'])"
   ]
  },
  {
   "cell_type": "code",
   "execution_count": 44,
   "id": "9d690d76",
   "metadata": {},
   "outputs": [],
   "source": [
    "steps_per_epochs = train_image.shape[0] / 64"
   ]
  },
  {
   "cell_type": "code",
   "execution_count": 46,
   "id": "8035dca1",
   "metadata": {},
   "outputs": [
    {
     "name": "stdout",
     "output_type": "stream",
     "text": [
      "Epoch 1/5\n",
      "938/937 [==============================] - 2s 2ms/step - loss: 0.3008 - acc: 0.9154\n",
      "Epoch 2/5\n",
      "938/937 [==============================] - 1s 2ms/step - loss: 0.1380 - acc: 0.9600\n",
      "Epoch 3/5\n",
      "938/937 [==============================] - 1s 2ms/step - loss: 0.0964 - acc: 0.9718\n",
      "Epoch 4/5\n",
      "938/937 [==============================] - 1s 2ms/step - loss: 0.0723 - acc: 0.9794\n",
      "Epoch 5/5\n",
      "938/937 [==============================] - 1s 2ms/step - loss: 0.0562 - acc: 0.9835\n"
     ]
    },
    {
     "data": {
      "text/plain": [
       "<tensorflow.python.keras.callbacks.History at 0x1f0d286e788>"
      ]
     },
     "execution_count": 46,
     "metadata": {},
     "output_type": "execute_result"
    }
   ],
   "source": [
    "model.fit(ds_train, \n",
    "          epochs=5,\n",
    "          steps_per_epoch=steps_per_epochs,\n",
    "          validation_data=ds_test,\n",
    "          validation_steps=10000/64)"
   ]
  },
  {
   "cell_type": "code",
   "execution_count": null,
   "id": "1291f17d",
   "metadata": {},
   "outputs": [],
   "source": []
  }
 ],
 "metadata": {
  "kernelspec": {
   "display_name": "Python (myenv)",
   "language": "python",
   "name": "myenv"
  },
  "language_info": {
   "codemirror_mode": {
    "name": "ipython",
    "version": 3
   },
   "file_extension": ".py",
   "mimetype": "text/x-python",
   "name": "python",
   "nbconvert_exporter": "python",
   "pygments_lexer": "ipython3",
   "version": "3.7.13"
  }
 },
 "nbformat": 4,
 "nbformat_minor": 5
}
