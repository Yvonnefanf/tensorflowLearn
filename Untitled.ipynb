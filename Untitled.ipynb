{
 "cells": [
  {
   "cell_type": "code",
   "execution_count": 1,
   "id": "36e592de-c58c-48df-b015-cb68aeec98c5",
   "metadata": {},
   "outputs": [
    {
     "name": "stdout",
     "output_type": "stream",
     "text": [
      "1\n"
     ]
    }
   ],
   "source": [
    "a = 1\n",
    "print(a)"
   ]
  },
  {
   "cell_type": "code",
   "execution_count": 2,
   "id": "c82b23ed-5fc3-4ebe-953a-e1a5b4b38f52",
   "metadata": {},
   "outputs": [
    {
     "ename": "ModuleNotFoundError",
     "evalue": "No module named 'tensroflow'",
     "output_type": "error",
     "traceback": [
      "\u001b[0;31m---------------------------------------------------------------------------\u001b[0m",
      "\u001b[0;31mModuleNotFoundError\u001b[0m                       Traceback (most recent call last)",
      "\u001b[0;32m/var/folders/k1/0swzs7zs7_155rr2qpbgv3440000gn/T/ipykernel_16470/1481011296.py\u001b[0m in \u001b[0;36m<module>\u001b[0;34m\u001b[0m\n\u001b[0;32m----> 1\u001b[0;31m \u001b[0;32mimport\u001b[0m \u001b[0mtensroflow\u001b[0m \u001b[0;32mas\u001b[0m \u001b[0mtf\u001b[0m\u001b[0;34m\u001b[0m\u001b[0;34m\u001b[0m\u001b[0m\n\u001b[0m",
      "\u001b[0;31mModuleNotFoundError\u001b[0m: No module named 'tensroflow'"
     ]
    }
   ],
   "source": [
    "import tensroflow as tf\n"
   ]
  },
  {
   "cell_type": "code",
   "execution_count": 3,
   "id": "f6fac4e0-33b9-4012-9624-de2e580ff5cc",
   "metadata": {},
   "outputs": [
    {
     "name": "stdout",
     "output_type": "stream",
     "text": [
      "1\n"
     ]
    }
   ],
   "source": []
  },
  {
   "cell_type": "code",
   "execution_count": 4,
   "id": "a248cb91-b570-4bf8-8967-28b5f9bbe8ec",
   "metadata": {},
   "outputs": [
    {
     "ename": "ModuleNotFoundError",
     "evalue": "No module named 'faker'",
     "output_type": "error",
     "traceback": [
      "\u001b[0;31m---------------------------------------------------------------------------\u001b[0m",
      "\u001b[0;31mModuleNotFoundError\u001b[0m                       Traceback (most recent call last)",
      "\u001b[0;32m/var/folders/k1/0swzs7zs7_155rr2qpbgv3440000gn/T/ipykernel_16470/3495325569.py\u001b[0m in \u001b[0;36m<module>\u001b[0;34m\u001b[0m\n\u001b[1;32m      1\u001b[0m \u001b[0;31m# coding:utf8\u001b[0m\u001b[0;34m\u001b[0m\u001b[0;34m\u001b[0m\u001b[0m\n\u001b[0;32m----> 2\u001b[0;31m \u001b[0;32mfrom\u001b[0m \u001b[0mfaker\u001b[0m \u001b[0;32mimport\u001b[0m \u001b[0mFaker\u001b[0m\u001b[0;34m\u001b[0m\u001b[0;34m\u001b[0m\u001b[0m\n\u001b[0m\u001b[1;32m      3\u001b[0m \u001b[0;32mimport\u001b[0m \u001b[0mrandom\u001b[0m\u001b[0;34m\u001b[0m\u001b[0;34m\u001b[0m\u001b[0m\n\u001b[1;32m      4\u001b[0m \u001b[0;32mimport\u001b[0m \u001b[0mdatetime\u001b[0m\u001b[0;34m\u001b[0m\u001b[0;34m\u001b[0m\u001b[0m\n\u001b[1;32m      5\u001b[0m \u001b[0;32mimport\u001b[0m \u001b[0mpandas\u001b[0m \u001b[0;32mas\u001b[0m \u001b[0mpd\u001b[0m\u001b[0;34m\u001b[0m\u001b[0;34m\u001b[0m\u001b[0m\n",
      "\u001b[0;31mModuleNotFoundError\u001b[0m: No module named 'faker'"
     ]
    }
   ],
   "source": [
    "# coding:utf8\n",
    "from faker import Faker\n",
    "import random\n",
    "import datetime\n",
    "import pandas as pd\n",
    " \n",
    "'''\n",
    "引入faker库来生成随机假数数据\n",
    "faker 对于中文 地址 姓名 颜色 时间等等之类的数据构造有很好的支持\n",
    "Faker 对于ID的构造没有很好的支持\n",
    "'''\n",
    "# zh_CN 为中文数据\n",
    "faker = Faker(\"zh_CN\")\n",
    " \n",
    "def Generate_ID(num):\n",
    "    '''\n",
    "    1、生成ID递增的数据，以baseHead为数据前半部分，自定义的selfAdd递增的为尾部数据\n",
    "    2、两者合并为一个string类型的数据，存入IDlist中备用\n",
    "    :param num:要生成的数据个数\n",
    "    :return: 返回num个数据list形式\n",
    "    '''\n",
    " \n",
    "    BaseHead = \"65010000001190000001022017121910051599983015\"\n",
    "    IDlist = []\n",
    " \n",
    "    for i in range(num):\n",
    "        selfAdd = 1001\n",
    "        selfAdd = selfAdd + i\n",
    "        result = BaseHead + str(selfAdd)\n",
    "        IDlist.append(result)\n",
    "    # print(IDlist)\n",
    "    return IDlist\n",
    " \n",
    "#------------------------------以上是生成ID的方法------------------------------------------\n",
    " \n",
    "def Generate_oteher_data(IDlist, num):\n",
    "    '''\n",
    "    1、以IDlist中的数据作为第一列数据\n",
    "    2、以Faker框架随机生成其他数据\n",
    "    3、两者最终合并存入一一对应的列表中\n",
    "    :param IDlist: 上个函数写好的ID数据\n",
    "    :param num: 要生成的数据个数\n",
    "    :return: 最终数据，包含各个属性\n",
    "    '''\n",
    "    otherDatalist = []\n",
    "    for i in range(num):\n",
    "        name = faker.name()\n",
    "        phone = faker.phone_number()\n",
    "        address = faker.address()\n",
    "        country = faker.country()\n",
    "        cityName = faker.city_name()\n",
    "        province = faker.province()\n",
    "        date = faker.date()\n",
    "        otherDatalist.append([IDlist[i], name, phone, address, country, cityName, province, date])\n",
    "    # print(otherDatalist)\n",
    "    return otherDatalist\n",
    " \n",
    " \n",
    "def gettime():\n",
    "    '''\n",
    "    :return: 当前时间的规范形式\n",
    "    '''\n",
    "    now_time = datetime.datetime.now().strftime('%Y-%m-%d %H-%M-%S')\n",
    "    return now_time\n",
    " \n",
    " \n",
    "def dataMerager_toCSV(otherDatalist):\n",
    "    '''\n",
    "    1、定义好列名\n",
    "    2、列名与 数据内容合并\n",
    "    3、使用pandas框架生成CSV文件\n",
    "    :param otherDatalist: 数据内容\n",
    "    :return: 数据生成CSV文件\n",
    "    '''\n",
    "    outputfile = 'data/测试数据' + gettime() + '.csv'\n",
    "    # 定义列名\n",
    "    columns = ['ID', 'name', 'phone', 'address', 'country', 'cityName', 'province', 'date']\n",
    "    Data = []\n",
    "    Data.append(columns)\n",
    "    Data.extend(otherDatalist)  # 合并列名与数据\n",
    "    # print(Data)\n",
    "    # 生成csv数据文件\n",
    "    dataframe = pd.DataFrame(Data)\n",
    "    dataframe.to_csv(outputfile, encoding='utf-8', index=False, header=0)\n",
    " \n",
    " \n",
    "if __name__ == '__main__':\n",
    "    # 生成1000条数据\n",
    "    Data = Generate_oteher_data(Generate_ID(1000), 1000)\n",
    "    dataMerager_toCSV(Data)"
   ]
  },
  {
   "cell_type": "code",
   "execution_count": null,
   "id": "3b75c822-e40f-412c-bf3f-111bf1ab41e1",
   "metadata": {},
   "outputs": [],
   "source": []
  }
 ],
 "metadata": {
  "kernelspec": {
   "display_name": "Python 3 (ipykernel)",
   "language": "python",
   "name": "python3"
  },
  "language_info": {
   "codemirror_mode": {
    "name": "ipython",
    "version": 3
   },
   "file_extension": ".py",
   "mimetype": "text/x-python",
   "name": "python",
   "nbconvert_exporter": "python",
   "pygments_lexer": "ipython3",
   "version": "3.9.7"
  }
 },
 "nbformat": 4,
 "nbformat_minor": 5
}
