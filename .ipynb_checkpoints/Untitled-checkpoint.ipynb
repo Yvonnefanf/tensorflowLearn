{
 "cells": [
  {
   "cell_type": "code",
   "execution_count": null,
   "metadata": {},
   "outputs": [],
   "source": []
  }
 ],
 "metadata": {
  "kernelspec": {
   "display_name": "Python 3.9.12 64-bit",
   "name": "python3912jvsc74a57bd01ebb803b868de87b7a5cc2a319aa7dcaf403426686a2ffb303ee6df61e9365a7"
  },
  "language_info": {
   "name": "python",
   "version": ""
  },
  "metadata": {
   "interpreter": {
    "hash": "1ebb803b868de87b7a5cc2a319aa7dcaf403426686a2ffb303ee6df61e9365a7"
   }
  }
 },
 "nbformat": 4,
 "nbformat_minor": 5
}